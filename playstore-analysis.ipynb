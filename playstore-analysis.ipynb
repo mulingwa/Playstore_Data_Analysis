{
 "cells": [
  {
   "cell_type": "code",
   "execution_count": 1,
   "id": "cbdfca67",
   "metadata": {
    "execution": {
     "iopub.execute_input": "2023-10-09T13:18:23.750974Z",
     "iopub.status.busy": "2023-10-09T13:18:23.750351Z",
     "iopub.status.idle": "2023-10-09T13:18:40.080825Z",
     "shell.execute_reply": "2023-10-09T13:18:40.079626Z"
    },
    "papermill": {
     "duration": 16.343642,
     "end_time": "2023-10-09T13:18:40.083659",
     "exception": false,
     "start_time": "2023-10-09T13:18:23.740017",
     "status": "completed"
    },
    "tags": []
   },
   "outputs": [
    {
     "name": "stdout",
     "output_type": "stream",
     "text": [
      "Collecting pyforest\r\n",
      "  Downloading pyforest-1.1.0.tar.gz (15 kB)\r\n",
      "  Preparing metadata (setup.py) ... \u001b[?25l-\b \b\\\b \b|\b \bdone\r\n",
      "\u001b[?25hBuilding wheels for collected packages: pyforest\r\n",
      "  Building wheel for pyforest (setup.py) ... \u001b[?25l-\b \b\\\b \b|\b \b/\b \bdone\r\n",
      "\u001b[?25h  Created wheel for pyforest: filename=pyforest-1.1.0-py2.py3-none-any.whl size=14606 sha256=d4f70bf0039c999ec157f6c95c99468b7c64676a5a021cec861d05272d2ebfa1\r\n",
      "  Stored in directory: /root/.cache/pip/wheels/9e/7d/2c/5d2f5e62de376c386fd3bf5a8e5bd119ace6a9f48f49df6017\r\n",
      "Successfully built pyforest\r\n",
      "Installing collected packages: pyforest\r\n",
      "Successfully installed pyforest-1.1.0\r\n"
     ]
    }
   ],
   "source": [
    "!pip install pyforest"
   ]
  },
  {
   "cell_type": "code",
   "execution_count": 2,
   "id": "b9837465",
   "metadata": {
    "_cell_guid": "b1076dfc-b9ad-4769-8c92-a6c4dae69d19",
    "_uuid": "8f2839f25d086af736a60e9eeb907d3b93b6e0e5",
    "execution": {
     "iopub.execute_input": "2023-10-09T13:18:40.103642Z",
     "iopub.status.busy": "2023-10-09T13:18:40.103166Z",
     "iopub.status.idle": "2023-10-09T13:18:40.353013Z",
     "shell.execute_reply": "2023-10-09T13:18:40.351557Z"
    },
    "papermill": {
     "duration": 0.263175,
     "end_time": "2023-10-09T13:18:40.355537",
     "exception": false,
     "start_time": "2023-10-09T13:18:40.092362",
     "status": "completed"
    },
    "tags": []
   },
   "outputs": [
    {
     "name": "stdout",
     "output_type": "stream",
     "text": [
      "/kaggle/input/playstore-dataset/playstore-analysis.csv\n"
     ]
    }
   ],
   "source": [
    "import os\n",
    "import pyforest\n",
    "\n",
    "for dirname, _, filenames in os.walk('/kaggle/input'):\n",
    "    for filename in filenames:\n",
    "        print(os.path.join(dirname, filename))"
   ]
  },
  {
   "cell_type": "code",
   "execution_count": 3,
   "id": "b6f45656",
   "metadata": {
    "execution": {
     "iopub.execute_input": "2023-10-09T13:18:40.374271Z",
     "iopub.status.busy": "2023-10-09T13:18:40.373836Z",
     "iopub.status.idle": "2023-10-09T13:18:40.933445Z",
     "shell.execute_reply": "2023-10-09T13:18:40.932222Z"
    },
    "papermill": {
     "duration": 0.571854,
     "end_time": "2023-10-09T13:18:40.935734",
     "exception": false,
     "start_time": "2023-10-09T13:18:40.363880",
     "status": "completed"
    },
    "tags": []
   },
   "outputs": [
    {
     "data": {
      "application/javascript": [
       "\n",
       "        if (window._pyforest_update_imports_cell) { window._pyforest_update_imports_cell('import pandas as pd'); }\n",
       "    "
      ],
      "text/plain": [
       "<IPython.core.display.Javascript object>"
      ]
     },
     "metadata": {},
     "output_type": "display_data"
    },
    {
     "data": {
      "text/html": [
       "<div>\n",
       "<style scoped>\n",
       "    .dataframe tbody tr th:only-of-type {\n",
       "        vertical-align: middle;\n",
       "    }\n",
       "\n",
       "    .dataframe tbody tr th {\n",
       "        vertical-align: top;\n",
       "    }\n",
       "\n",
       "    .dataframe thead th {\n",
       "        text-align: right;\n",
       "    }\n",
       "</style>\n",
       "<table border=\"1\" class=\"dataframe\">\n",
       "  <thead>\n",
       "    <tr style=\"text-align: right;\">\n",
       "      <th></th>\n",
       "      <th>App</th>\n",
       "      <th>Category</th>\n",
       "      <th>Rating</th>\n",
       "      <th>Reviews</th>\n",
       "      <th>Size</th>\n",
       "      <th>Installs</th>\n",
       "      <th>Type</th>\n",
       "      <th>Price</th>\n",
       "      <th>Content Rating</th>\n",
       "      <th>Genres</th>\n",
       "      <th>Last Updated</th>\n",
       "      <th>Current Ver</th>\n",
       "      <th>Android Ver</th>\n",
       "    </tr>\n",
       "  </thead>\n",
       "  <tbody>\n",
       "    <tr>\n",
       "      <th>0</th>\n",
       "      <td>Photo Editor &amp; Candy Camera &amp; Grid &amp; ScrapBook</td>\n",
       "      <td>ART_AND_DESIGN</td>\n",
       "      <td>4.1</td>\n",
       "      <td>159</td>\n",
       "      <td>19000.0</td>\n",
       "      <td>10,000+</td>\n",
       "      <td>Free</td>\n",
       "      <td>0</td>\n",
       "      <td>Everyone</td>\n",
       "      <td>Art &amp; Design</td>\n",
       "      <td>January 7, 2018</td>\n",
       "      <td>1.0.0</td>\n",
       "      <td>4.0.3 and up</td>\n",
       "    </tr>\n",
       "    <tr>\n",
       "      <th>1</th>\n",
       "      <td>Coloring book moana</td>\n",
       "      <td>ART_AND_DESIGN</td>\n",
       "      <td>3.9</td>\n",
       "      <td>967</td>\n",
       "      <td>14000.0</td>\n",
       "      <td>500,000+</td>\n",
       "      <td>Free</td>\n",
       "      <td>0</td>\n",
       "      <td>Everyone</td>\n",
       "      <td>Art &amp; Design;Pretend Play</td>\n",
       "      <td>January 15, 2018</td>\n",
       "      <td>2.0.0</td>\n",
       "      <td>4.0.3 and up</td>\n",
       "    </tr>\n",
       "    <tr>\n",
       "      <th>2</th>\n",
       "      <td>U Launcher Lite – FREE Live Cool Themes, Hide ...</td>\n",
       "      <td>ART_AND_DESIGN</td>\n",
       "      <td>4.7</td>\n",
       "      <td>87510</td>\n",
       "      <td>8700.0</td>\n",
       "      <td>5,000,000+</td>\n",
       "      <td>Free</td>\n",
       "      <td>0</td>\n",
       "      <td>Everyone</td>\n",
       "      <td>Art &amp; Design</td>\n",
       "      <td>August 1, 2018</td>\n",
       "      <td>1.2.4</td>\n",
       "      <td>4.0.3 and up</td>\n",
       "    </tr>\n",
       "  </tbody>\n",
       "</table>\n",
       "</div>"
      ],
      "text/plain": [
       "                                                 App        Category  Rating  \\\n",
       "0     Photo Editor & Candy Camera & Grid & ScrapBook  ART_AND_DESIGN     4.1   \n",
       "1                                Coloring book moana  ART_AND_DESIGN     3.9   \n",
       "2  U Launcher Lite – FREE Live Cool Themes, Hide ...  ART_AND_DESIGN     4.7   \n",
       "\n",
       "  Reviews     Size    Installs  Type Price Content Rating  \\\n",
       "0     159  19000.0     10,000+  Free     0       Everyone   \n",
       "1     967  14000.0    500,000+  Free     0       Everyone   \n",
       "2   87510   8700.0  5,000,000+  Free     0       Everyone   \n",
       "\n",
       "                      Genres      Last Updated Current Ver   Android Ver  \n",
       "0               Art & Design   January 7, 2018       1.0.0  4.0.3 and up  \n",
       "1  Art & Design;Pretend Play  January 15, 2018       2.0.0  4.0.3 and up  \n",
       "2               Art & Design    August 1, 2018       1.2.4  4.0.3 and up  "
      ]
     },
     "execution_count": 3,
     "metadata": {},
     "output_type": "execute_result"
    }
   ],
   "source": [
    "data  = pd.read_csv(\"/kaggle/input/playstore-dataset/playstore-analysis.csv\")\n",
    "\n",
    "data.head(3)"
   ]
  },
  {
   "cell_type": "code",
   "execution_count": 4,
   "id": "ecc2a51a",
   "metadata": {
    "execution": {
     "iopub.execute_input": "2023-10-09T13:18:40.955528Z",
     "iopub.status.busy": "2023-10-09T13:18:40.955069Z",
     "iopub.status.idle": "2023-10-09T13:18:40.961345Z",
     "shell.execute_reply": "2023-10-09T13:18:40.960496Z"
    },
    "papermill": {
     "duration": 0.018475,
     "end_time": "2023-10-09T13:18:40.963188",
     "exception": false,
     "start_time": "2023-10-09T13:18:40.944713",
     "status": "completed"
    },
    "tags": []
   },
   "outputs": [
    {
     "data": {
      "text/plain": [
       "(10841, 13)"
      ]
     },
     "execution_count": 4,
     "metadata": {},
     "output_type": "execute_result"
    }
   ],
   "source": [
    "data.shape\n"
   ]
  },
  {
   "cell_type": "code",
   "execution_count": 5,
   "id": "38877b2c",
   "metadata": {
    "execution": {
     "iopub.execute_input": "2023-10-09T13:18:40.983803Z",
     "iopub.status.busy": "2023-10-09T13:18:40.983026Z",
     "iopub.status.idle": "2023-10-09T13:18:41.006713Z",
     "shell.execute_reply": "2023-10-09T13:18:41.005102Z"
    },
    "papermill": {
     "duration": 0.037355,
     "end_time": "2023-10-09T13:18:41.009965",
     "exception": false,
     "start_time": "2023-10-09T13:18:40.972610",
     "status": "completed"
    },
    "tags": []
   },
   "outputs": [
    {
     "data": {
      "text/html": [
       "<div>\n",
       "<style scoped>\n",
       "    .dataframe tbody tr th:only-of-type {\n",
       "        vertical-align: middle;\n",
       "    }\n",
       "\n",
       "    .dataframe tbody tr th {\n",
       "        vertical-align: top;\n",
       "    }\n",
       "\n",
       "    .dataframe thead th {\n",
       "        text-align: right;\n",
       "    }\n",
       "</style>\n",
       "<table border=\"1\" class=\"dataframe\">\n",
       "  <thead>\n",
       "    <tr style=\"text-align: right;\">\n",
       "      <th></th>\n",
       "      <th>Rating</th>\n",
       "      <th>Size</th>\n",
       "    </tr>\n",
       "  </thead>\n",
       "  <tbody>\n",
       "    <tr>\n",
       "      <th>count</th>\n",
       "      <td>9367.000000</td>\n",
       "      <td>10841.000000</td>\n",
       "    </tr>\n",
       "    <tr>\n",
       "      <th>mean</th>\n",
       "      <td>4.193338</td>\n",
       "      <td>21516.529524</td>\n",
       "    </tr>\n",
       "    <tr>\n",
       "      <th>std</th>\n",
       "      <td>0.537431</td>\n",
       "      <td>20746.537567</td>\n",
       "    </tr>\n",
       "    <tr>\n",
       "      <th>min</th>\n",
       "      <td>1.000000</td>\n",
       "      <td>8.500000</td>\n",
       "    </tr>\n",
       "    <tr>\n",
       "      <th>25%</th>\n",
       "      <td>4.000000</td>\n",
       "      <td>5900.000000</td>\n",
       "    </tr>\n",
       "    <tr>\n",
       "      <th>50%</th>\n",
       "      <td>4.300000</td>\n",
       "      <td>18000.000000</td>\n",
       "    </tr>\n",
       "    <tr>\n",
       "      <th>75%</th>\n",
       "      <td>4.500000</td>\n",
       "      <td>26000.000000</td>\n",
       "    </tr>\n",
       "    <tr>\n",
       "      <th>max</th>\n",
       "      <td>19.000000</td>\n",
       "      <td>100000.000000</td>\n",
       "    </tr>\n",
       "  </tbody>\n",
       "</table>\n",
       "</div>"
      ],
      "text/plain": [
       "            Rating           Size\n",
       "count  9367.000000   10841.000000\n",
       "mean      4.193338   21516.529524\n",
       "std       0.537431   20746.537567\n",
       "min       1.000000       8.500000\n",
       "25%       4.000000    5900.000000\n",
       "50%       4.300000   18000.000000\n",
       "75%       4.500000   26000.000000\n",
       "max      19.000000  100000.000000"
      ]
     },
     "execution_count": 5,
     "metadata": {},
     "output_type": "execute_result"
    }
   ],
   "source": [
    "# Summary Statistics\n",
    "data.describe()"
   ]
  },
  {
   "cell_type": "code",
   "execution_count": 6,
   "id": "6fe20921",
   "metadata": {
    "execution": {
     "iopub.execute_input": "2023-10-09T13:18:41.032867Z",
     "iopub.status.busy": "2023-10-09T13:18:41.031828Z",
     "iopub.status.idle": "2023-10-09T13:18:41.038638Z",
     "shell.execute_reply": "2023-10-09T13:18:41.037638Z"
    },
    "papermill": {
     "duration": 0.020613,
     "end_time": "2023-10-09T13:18:41.040875",
     "exception": false,
     "start_time": "2023-10-09T13:18:41.020262",
     "status": "completed"
    },
    "tags": []
   },
   "outputs": [
    {
     "data": {
      "text/plain": [
       "Index(['App', 'Category', 'Rating', 'Reviews', 'Size', 'Installs', 'Type',\n",
       "       'Price', 'Content Rating', 'Genres', 'Last Updated', 'Current Ver',\n",
       "       'Android Ver'],\n",
       "      dtype='object')"
      ]
     },
     "execution_count": 6,
     "metadata": {},
     "output_type": "execute_result"
    }
   ],
   "source": [
    "data.columns"
   ]
  },
  {
   "cell_type": "markdown",
   "id": "e254174d",
   "metadata": {
    "papermill": {
     "duration": 0.008633,
     "end_time": "2023-10-09T13:18:41.058952",
     "exception": false,
     "start_time": "2023-10-09T13:18:41.050319",
     "status": "completed"
    },
    "tags": []
   },
   "source": [
    "## DATA CLEANING"
   ]
  },
  {
   "cell_type": "code",
   "execution_count": 7,
   "id": "20c21703",
   "metadata": {
    "execution": {
     "iopub.execute_input": "2023-10-09T13:18:41.079676Z",
     "iopub.status.busy": "2023-10-09T13:18:41.079006Z",
     "iopub.status.idle": "2023-10-09T13:18:41.115502Z",
     "shell.execute_reply": "2023-10-09T13:18:41.114128Z"
    },
    "papermill": {
     "duration": 0.049995,
     "end_time": "2023-10-09T13:18:41.118152",
     "exception": false,
     "start_time": "2023-10-09T13:18:41.068157",
     "status": "completed"
    },
    "tags": []
   },
   "outputs": [
    {
     "name": "stdout",
     "output_type": "stream",
     "text": [
      "<class 'pandas.core.frame.DataFrame'>\n",
      "RangeIndex: 10841 entries, 0 to 10840\n",
      "Data columns (total 9 columns):\n",
      " #   Column          Non-Null Count  Dtype  \n",
      "---  ------          --------------  -----  \n",
      " 0   Category        10841 non-null  object \n",
      " 1   Rating          9367 non-null   float64\n",
      " 2   Reviews         10841 non-null  object \n",
      " 3   Size            10841 non-null  float64\n",
      " 4   Installs        10841 non-null  object \n",
      " 5   Type            10840 non-null  object \n",
      " 6   Price           10841 non-null  object \n",
      " 7   Content Rating  10840 non-null  object \n",
      " 8   Android Ver     10838 non-null  object \n",
      "dtypes: float64(2), object(7)\n",
      "memory usage: 762.4+ KB\n"
     ]
    }
   ],
   "source": [
    "# Drop specified columns from the DataFrame\n",
    "data.drop([\"App\", \"Current Ver\", \"Last Updated\", \"Current Ver\", \"Genres\"], axis=1, inplace=True)\n",
    "\n",
    "# Display information about the DataFrame\n",
    "data.info()"
   ]
  },
  {
   "cell_type": "code",
   "execution_count": 8,
   "id": "35d335b1",
   "metadata": {
    "execution": {
     "iopub.execute_input": "2023-10-09T13:18:41.140335Z",
     "iopub.status.busy": "2023-10-09T13:18:41.139140Z",
     "iopub.status.idle": "2023-10-09T13:18:41.159671Z",
     "shell.execute_reply": "2023-10-09T13:18:41.158479Z"
    },
    "papermill": {
     "duration": 0.034799,
     "end_time": "2023-10-09T13:18:41.162590",
     "exception": false,
     "start_time": "2023-10-09T13:18:41.127791",
     "status": "completed"
    },
    "tags": []
   },
   "outputs": [
    {
     "data": {
      "text/plain": [
       "9875"
      ]
     },
     "execution_count": 8,
     "metadata": {},
     "output_type": "execute_result"
    }
   ],
   "source": [
    "#Drop duplicates\n",
    "\n",
    "data = data.drop_duplicates(keep = False)\n",
    "\n",
    "#check length of the dataset to confirm duplicate rows have been deleted\n",
    "d_l = len(data)\n",
    "d_l"
   ]
  },
  {
   "cell_type": "code",
   "execution_count": 9,
   "id": "97d1424c",
   "metadata": {
    "execution": {
     "iopub.execute_input": "2023-10-09T13:18:41.183652Z",
     "iopub.status.busy": "2023-10-09T13:18:41.183216Z",
     "iopub.status.idle": "2023-10-09T13:18:41.196628Z",
     "shell.execute_reply": "2023-10-09T13:18:41.195500Z"
    },
    "papermill": {
     "duration": 0.026464,
     "end_time": "2023-10-09T13:18:41.198766",
     "exception": false,
     "start_time": "2023-10-09T13:18:41.172302",
     "status": "completed"
    },
    "tags": []
   },
   "outputs": [
    {
     "data": {
      "text/plain": [
       "Category             0\n",
       "Rating            1391\n",
       "Reviews              0\n",
       "Size                 0\n",
       "Installs             0\n",
       "Type                 1\n",
       "Price                0\n",
       "Content Rating       1\n",
       "Android Ver          3\n",
       "dtype: int64"
      ]
     },
     "execution_count": 9,
     "metadata": {},
     "output_type": "execute_result"
    }
   ],
   "source": [
    "#find columns with null values and the number of rows with the null values\n",
    "data.isna().sum()"
   ]
  },
  {
   "cell_type": "code",
   "execution_count": 10,
   "id": "938e014a",
   "metadata": {
    "execution": {
     "iopub.execute_input": "2023-10-09T13:18:41.221023Z",
     "iopub.status.busy": "2023-10-09T13:18:41.219767Z",
     "iopub.status.idle": "2023-10-09T13:18:41.237807Z",
     "shell.execute_reply": "2023-10-09T13:18:41.236461Z"
    },
    "papermill": {
     "duration": 0.031747,
     "end_time": "2023-10-09T13:18:41.240383",
     "exception": false,
     "start_time": "2023-10-09T13:18:41.208636",
     "status": "completed"
    },
    "tags": []
   },
   "outputs": [
    {
     "data": {
      "text/html": [
       "<div>\n",
       "<style scoped>\n",
       "    .dataframe tbody tr th:only-of-type {\n",
       "        vertical-align: middle;\n",
       "    }\n",
       "\n",
       "    .dataframe tbody tr th {\n",
       "        vertical-align: top;\n",
       "    }\n",
       "\n",
       "    .dataframe thead th {\n",
       "        text-align: right;\n",
       "    }\n",
       "</style>\n",
       "<table border=\"1\" class=\"dataframe\">\n",
       "  <thead>\n",
       "    <tr style=\"text-align: right;\">\n",
       "      <th></th>\n",
       "      <th>Category</th>\n",
       "      <th>Rating</th>\n",
       "      <th>Reviews</th>\n",
       "      <th>Size</th>\n",
       "      <th>Installs</th>\n",
       "      <th>Type</th>\n",
       "      <th>Price</th>\n",
       "      <th>Content Rating</th>\n",
       "      <th>Android Ver</th>\n",
       "    </tr>\n",
       "  </thead>\n",
       "  <tbody>\n",
       "    <tr>\n",
       "      <th>10472</th>\n",
       "      <td>1.9</td>\n",
       "      <td>19.0</td>\n",
       "      <td>3.0M</td>\n",
       "      <td>21516.529524</td>\n",
       "      <td>Free</td>\n",
       "      <td>0</td>\n",
       "      <td>Everyone</td>\n",
       "      <td>NaN</td>\n",
       "      <td>NaN</td>\n",
       "    </tr>\n",
       "  </tbody>\n",
       "</table>\n",
       "</div>"
      ],
      "text/plain": [
       "      Category  Rating Reviews          Size Installs Type     Price  \\\n",
       "10472      1.9    19.0    3.0M  21516.529524     Free    0  Everyone   \n",
       "\n",
       "      Content Rating Android Ver  \n",
       "10472            NaN         NaN  "
      ]
     },
     "execution_count": 10,
     "metadata": {},
     "output_type": "execute_result"
    }
   ],
   "source": [
    "#Category column cleaning steps\n",
    "#1. Find blanks\n",
    "\n",
    "data[data[\"Category\"].isna()]\n",
    "\n",
    "#Find the unique values in the column\n",
    "data[\"Category\"].unique()\n",
    "#Find the row with a value of 1.9 as category\n",
    "data.loc[data[\"Category\"] == \"1.9\"]"
   ]
  },
  {
   "cell_type": "code",
   "execution_count": 11,
   "id": "8907d453",
   "metadata": {
    "execution": {
     "iopub.execute_input": "2023-10-09T13:18:41.261490Z",
     "iopub.status.busy": "2023-10-09T13:18:41.260996Z",
     "iopub.status.idle": "2023-10-09T13:18:41.268989Z",
     "shell.execute_reply": "2023-10-09T13:18:41.267808Z"
    },
    "papermill": {
     "duration": 0.020883,
     "end_time": "2023-10-09T13:18:41.271014",
     "exception": false,
     "start_time": "2023-10-09T13:18:41.250131",
     "status": "completed"
    },
    "tags": []
   },
   "outputs": [],
   "source": [
    "#Drop the row\n",
    "\n",
    "data.drop(index = 10472, inplace = True)\n"
   ]
  },
  {
   "cell_type": "code",
   "execution_count": 12,
   "id": "e5016d16",
   "metadata": {
    "execution": {
     "iopub.execute_input": "2023-10-09T13:18:41.292126Z",
     "iopub.status.busy": "2023-10-09T13:18:41.291710Z",
     "iopub.status.idle": "2023-10-09T13:18:41.298661Z",
     "shell.execute_reply": "2023-10-09T13:18:41.297457Z"
    },
    "papermill": {
     "duration": 0.020715,
     "end_time": "2023-10-09T13:18:41.301298",
     "exception": false,
     "start_time": "2023-10-09T13:18:41.280583",
     "status": "completed"
    },
    "tags": []
   },
   "outputs": [
    {
     "name": "stdout",
     "output_type": "stream",
     "text": [
      "Max value is:  5.0\n",
      "Min value is:  1.0\n"
     ]
    }
   ],
   "source": [
    "#Ratings cleaning\n",
    "#data[\"Rating\"].unique()\n",
    "print(\"Max value is: \", data[\"Rating\"].max())\n",
    "print(\"Min value is: \", data[\"Rating\"].min())"
   ]
  },
  {
   "cell_type": "markdown",
   "id": "1b633cab",
   "metadata": {
    "papermill": {
     "duration": 0.009302,
     "end_time": "2023-10-09T13:18:41.321113",
     "exception": false,
     "start_time": "2023-10-09T13:18:41.311811",
     "status": "completed"
    },
    "tags": []
   },
   "source": [
    "The values fall within the acceptable range for ratings which is between 1 and 5"
   ]
  },
  {
   "cell_type": "code",
   "execution_count": 13,
   "id": "9bf466b1",
   "metadata": {
    "execution": {
     "iopub.execute_input": "2023-10-09T13:18:41.342542Z",
     "iopub.status.busy": "2023-10-09T13:18:41.342094Z",
     "iopub.status.idle": "2023-10-09T13:18:41.351759Z",
     "shell.execute_reply": "2023-10-09T13:18:41.350803Z"
    },
    "papermill": {
     "duration": 0.023236,
     "end_time": "2023-10-09T13:18:41.354045",
     "exception": false,
     "start_time": "2023-10-09T13:18:41.330809",
     "status": "completed"
    },
    "tags": []
   },
   "outputs": [
    {
     "data": {
      "text/plain": [
       "array([4.1, 3.9, 4.7, 4.5, 4.3, 4.4, 3.8, 4.2, 4.6, 3.2, 4. , 4.8, 4.9,\n",
       "       3.6, 3.7, 3.3, 3.4, 3.5, 3.1, 5. , 2.6, 3. , 2.5, 1. , 1.9, 2.9,\n",
       "       2.8, 2.3, 2.2, 1.7, 2. , 1.8, 2.7, 2.4, 1.6, 2.1, 1.4, 1.5, 1.2])"
      ]
     },
     "execution_count": 13,
     "metadata": {},
     "output_type": "execute_result"
    }
   ],
   "source": [
    "#data[\"Rating\"].isna().sum()- There are 1393 missing values in the column\n",
    "#Replace missing values with mode\n",
    "filler = data[\"Rating\"].mean()\n",
    "filler = round(filler, 1)\n",
    "# filler\n",
    "data[\"Rating\"].fillna(filler, inplace = True)\n",
    "data[\"Rating\"].unique()"
   ]
  },
  {
   "cell_type": "code",
   "execution_count": 14,
   "id": "c2127cb4",
   "metadata": {
    "execution": {
     "iopub.execute_input": "2023-10-09T13:18:41.378598Z",
     "iopub.status.busy": "2023-10-09T13:18:41.377814Z",
     "iopub.status.idle": "2023-10-09T13:18:41.396298Z",
     "shell.execute_reply": "2023-10-09T13:18:41.395075Z"
    },
    "papermill": {
     "duration": 0.03428,
     "end_time": "2023-10-09T13:18:41.398549",
     "exception": false,
     "start_time": "2023-10-09T13:18:41.364269",
     "status": "completed"
    },
    "tags": []
   },
   "outputs": [
    {
     "name": "stdout",
     "output_type": "stream",
     "text": [
      "<class 'pandas.core.frame.DataFrame'>\n",
      "Index: 9874 entries, 0 to 10840\n",
      "Data columns (total 9 columns):\n",
      " #   Column          Non-Null Count  Dtype  \n",
      "---  ------          --------------  -----  \n",
      " 0   Category        9874 non-null   object \n",
      " 1   Rating          9874 non-null   float64\n",
      " 2   Reviews         9874 non-null   int64  \n",
      " 3   Size            9874 non-null   float64\n",
      " 4   Installs        9874 non-null   object \n",
      " 5   Type            9873 non-null   object \n",
      " 6   Price           9874 non-null   object \n",
      " 7   Content Rating  9874 non-null   object \n",
      " 8   Android Ver     9872 non-null   object \n",
      "dtypes: float64(2), int64(1), object(6)\n",
      "memory usage: 771.4+ KB\n"
     ]
    }
   ],
   "source": [
    "#Reviews Cleaning \n",
    "data[\"Reviews\"] = data[\"Reviews\"].astype(int)\n",
    "data.info()"
   ]
  },
  {
   "cell_type": "code",
   "execution_count": 15,
   "id": "ce0b6db0",
   "metadata": {
    "execution": {
     "iopub.execute_input": "2023-10-09T13:18:41.420157Z",
     "iopub.status.busy": "2023-10-09T13:18:41.419673Z",
     "iopub.status.idle": "2023-10-09T13:18:41.427431Z",
     "shell.execute_reply": "2023-10-09T13:18:41.426377Z"
    },
    "papermill": {
     "duration": 0.020803,
     "end_time": "2023-10-09T13:18:41.429448",
     "exception": false,
     "start_time": "2023-10-09T13:18:41.408645",
     "status": "completed"
    },
    "tags": []
   },
   "outputs": [
    {
     "data": {
      "text/plain": [
       "0"
      ]
     },
     "execution_count": 15,
     "metadata": {},
     "output_type": "execute_result"
    }
   ],
   "source": [
    "#Find null values in the column\n",
    "data[\"Reviews\"].isna().sum()"
   ]
  },
  {
   "cell_type": "markdown",
   "id": "5ff70eea",
   "metadata": {
    "papermill": {
     "duration": 0.009567,
     "end_time": "2023-10-09T13:18:41.448938",
     "exception": false,
     "start_time": "2023-10-09T13:18:41.439371",
     "status": "completed"
    },
    "tags": []
   },
   "source": [
    "There are no null values in the column Reviews"
   ]
  },
  {
   "cell_type": "code",
   "execution_count": 16,
   "id": "a57927a7",
   "metadata": {
    "execution": {
     "iopub.execute_input": "2023-10-09T13:18:41.472647Z",
     "iopub.status.busy": "2023-10-09T13:18:41.471520Z",
     "iopub.status.idle": "2023-10-09T13:18:41.478569Z",
     "shell.execute_reply": "2023-10-09T13:18:41.477480Z"
    },
    "papermill": {
     "duration": 0.021695,
     "end_time": "2023-10-09T13:18:41.480529",
     "exception": false,
     "start_time": "2023-10-09T13:18:41.458834",
     "status": "completed"
    },
    "tags": []
   },
   "outputs": [
    {
     "data": {
      "text/plain": [
       "0"
      ]
     },
     "execution_count": 16,
     "metadata": {},
     "output_type": "execute_result"
    }
   ],
   "source": [
    "#Find blanks int the Size column\n",
    "data[\"Size\"].isna().sum()"
   ]
  },
  {
   "cell_type": "markdown",
   "id": "1f859310",
   "metadata": {
    "papermill": {
     "duration": 0.009754,
     "end_time": "2023-10-09T13:18:41.599493",
     "exception": false,
     "start_time": "2023-10-09T13:18:41.589739",
     "status": "completed"
    },
    "tags": []
   },
   "source": [
    "There are no null values in the column Size"
   ]
  },
  {
   "cell_type": "code",
   "execution_count": 17,
   "id": "413e33be",
   "metadata": {
    "execution": {
     "iopub.execute_input": "2023-10-09T13:18:41.622088Z",
     "iopub.status.busy": "2023-10-09T13:18:41.621612Z",
     "iopub.status.idle": "2023-10-09T13:18:41.629674Z",
     "shell.execute_reply": "2023-10-09T13:18:41.628624Z"
    },
    "papermill": {
     "duration": 0.022288,
     "end_time": "2023-10-09T13:18:41.631931",
     "exception": false,
     "start_time": "2023-10-09T13:18:41.609643",
     "status": "completed"
    },
    "tags": []
   },
   "outputs": [
    {
     "data": {
      "text/plain": [
       "0"
      ]
     },
     "execution_count": 17,
     "metadata": {},
     "output_type": "execute_result"
    }
   ],
   "source": [
    "# CLeaning the Installs Column\n",
    "data[\"Installs\"].isna().sum()"
   ]
  },
  {
   "cell_type": "markdown",
   "id": "f4d26ef6",
   "metadata": {
    "papermill": {
     "duration": 0.010208,
     "end_time": "2023-10-09T13:18:41.652551",
     "exception": false,
     "start_time": "2023-10-09T13:18:41.642343",
     "status": "completed"
    },
    "tags": []
   },
   "source": [
    "Theer are no null values in the column Installs"
   ]
  },
  {
   "cell_type": "code",
   "execution_count": 18,
   "id": "a9505544",
   "metadata": {
    "execution": {
     "iopub.execute_input": "2023-10-09T13:18:41.675514Z",
     "iopub.status.busy": "2023-10-09T13:18:41.675047Z",
     "iopub.status.idle": "2023-10-09T13:18:41.705342Z",
     "shell.execute_reply": "2023-10-09T13:18:41.704137Z"
    },
    "papermill": {
     "duration": 0.044493,
     "end_time": "2023-10-09T13:18:41.707583",
     "exception": false,
     "start_time": "2023-10-09T13:18:41.663090",
     "status": "completed"
    },
    "tags": []
   },
   "outputs": [
    {
     "data": {
      "application/javascript": [
       "\n",
       "        if (window._pyforest_update_imports_cell) { window._pyforest_update_imports_cell('import pandas as pd'); }\n",
       "    "
      ],
      "text/plain": [
       "<IPython.core.display.Javascript object>"
      ]
     },
     "metadata": {},
     "output_type": "display_data"
    },
    {
     "data": {
      "text/plain": [
       "array([     10000,     500000,    5000000,   50000000,     100000,\n",
       "            50000,    1000000,   10000000,       5000,  100000000,\n",
       "       1000000000,       1000,  500000000,         50,        100,\n",
       "              500,         10,          1,          5,          0])"
      ]
     },
     "execution_count": 18,
     "metadata": {},
     "output_type": "execute_result"
    }
   ],
   "source": [
    "# Remove the '+' at the end and convert to integer\n",
    "data[\"Installs\"] = pd.to_numeric(data[\"Installs\"].str.replace(r'\\D', '', regex=True))\n",
    "data[\"Installs\"].unique()"
   ]
  },
  {
   "cell_type": "code",
   "execution_count": 19,
   "id": "f3374b5e",
   "metadata": {
    "execution": {
     "iopub.execute_input": "2023-10-09T13:18:41.731084Z",
     "iopub.status.busy": "2023-10-09T13:18:41.730649Z",
     "iopub.status.idle": "2023-10-09T13:18:41.738790Z",
     "shell.execute_reply": "2023-10-09T13:18:41.737582Z"
    },
    "papermill": {
     "duration": 0.022487,
     "end_time": "2023-10-09T13:18:41.741139",
     "exception": false,
     "start_time": "2023-10-09T13:18:41.718652",
     "status": "completed"
    },
    "tags": []
   },
   "outputs": [
    {
     "data": {
      "text/plain": [
       "array(['Free', 'Paid', nan], dtype=object)"
      ]
     },
     "execution_count": 19,
     "metadata": {},
     "output_type": "execute_result"
    }
   ],
   "source": [
    "# Cleaning the Type column\n",
    "# data[data[\"Type\"].isna()]   #find the index of the row with the missing value\n",
    "# data.drop(index = 9148, inplace = True) #Drop the row \n",
    "data[\"Type\"].unique()"
   ]
  },
  {
   "cell_type": "code",
   "execution_count": 20,
   "id": "52e06503",
   "metadata": {
    "execution": {
     "iopub.execute_input": "2023-10-09T13:18:41.764273Z",
     "iopub.status.busy": "2023-10-09T13:18:41.763870Z",
     "iopub.status.idle": "2023-10-09T13:18:41.784919Z",
     "shell.execute_reply": "2023-10-09T13:18:41.784012Z"
    },
    "papermill": {
     "duration": 0.035441,
     "end_time": "2023-10-09T13:18:41.787126",
     "exception": false,
     "start_time": "2023-10-09T13:18:41.751685",
     "status": "completed"
    },
    "tags": []
   },
   "outputs": [
    {
     "data": {
      "application/javascript": [
       "\n",
       "        if (window._pyforest_update_imports_cell) { window._pyforest_update_imports_cell('import pandas as pd'); }\n",
       "    "
      ],
      "text/plain": [
       "<IPython.core.display.Javascript object>"
      ]
     },
     "metadata": {},
     "output_type": "display_data"
    },
    {
     "data": {
      "text/plain": [
       "array([  0.  ,   3.99,   6.99,   1.49,   2.99,   7.99,   5.99,   4.99,\n",
       "         3.49,   1.99,   9.99,   7.49,   0.99,   1.  ,   2.49,  10.99,\n",
       "         1.5 ,  14.99,  15.99,  74.99,  39.99,   3.95,  29.99,   4.49,\n",
       "         1.7 ,   8.99,   2.  ,   3.88,  25.99, 399.99,  17.99, 400.  ,\n",
       "         3.02,   1.76,   4.84,   4.77,   1.61,   2.5 ,  19.99,   1.59,\n",
       "         6.49,   1.29,   5.  ,  13.99, 299.99, 379.99,  37.99,  18.99,\n",
       "       389.99,  19.9 ,   8.49,   1.75,  11.99,  14.  ,   4.85,  46.99,\n",
       "         5.49, 109.99, 154.99,   3.08,   2.59,   4.8 ,   1.96,  19.4 ,\n",
       "         3.9 ,   4.59,  15.46,  10.  ,   3.04,  12.99,   4.29,   2.6 ,\n",
       "         3.28,   4.6 ,  28.99,   2.95,   2.9 ,   1.97,  24.99, 200.  ,\n",
       "        89.99,   2.56,  30.99,   3.61, 394.99,   1.26,  16.99,   1.2 ,\n",
       "         1.04])"
      ]
     },
     "execution_count": 20,
     "metadata": {},
     "output_type": "execute_result"
    }
   ],
   "source": [
    "#Cleaning the Price Column\n",
    "#Remove $ and convert to float\n",
    "data[\"Price\"] = pd.to_numeric(data[\"Price\"].str.replace('$', ''))\n",
    "data[\"Price\"].unique()"
   ]
  },
  {
   "cell_type": "code",
   "execution_count": 21,
   "id": "3fa20ea8",
   "metadata": {
    "execution": {
     "iopub.execute_input": "2023-10-09T13:18:41.812606Z",
     "iopub.status.busy": "2023-10-09T13:18:41.811815Z",
     "iopub.status.idle": "2023-10-09T13:18:41.828120Z",
     "shell.execute_reply": "2023-10-09T13:18:41.826777Z"
    },
    "papermill": {
     "duration": 0.032092,
     "end_time": "2023-10-09T13:18:41.830661",
     "exception": false,
     "start_time": "2023-10-09T13:18:41.798569",
     "status": "completed"
    },
    "tags": []
   },
   "outputs": [
    {
     "data": {
      "text/plain": [
       "array(['4.0.3 and up', '4.2 and up', '4.4 and up', '2.3 and up',\n",
       "       '3.0 and up', '4.1 and up', '4.0 and up', '2.3.3 and up',\n",
       "       'Varies with device', '2.2 and up', '5.0 and up', '6.0 and up',\n",
       "       '1.6 and up', '1.5 and up', '2.1 and up', '7.0 and up',\n",
       "       '5.1 and up', '4.3 and up', '4.0.3 - 7.1.1', '2.0 and up',\n",
       "       '3.2 and up', '4.4W and up', '7.1 and up', '7.0 - 7.1.1',\n",
       "       '8.0 and up', '5.0 - 8.0', '3.1 and up', '2.0.1 and up',\n",
       "       '4.1 - 7.1.1', '5.0 - 6.0', '1.0 and up', '2.2 - 7.1.1',\n",
       "       '5.0 - 7.1.1'], dtype=object)"
      ]
     },
     "execution_count": 21,
     "metadata": {},
     "output_type": "execute_result"
    }
   ],
   "source": [
    "# #Cleaning the Android Version column\n",
    "data[data[\"Android Ver\"].isna()] #fnd indices for ros with missing values\n",
    "indices = [4453, 4490] #pass the index values to a list\n",
    "data.drop(indices, inplace = True)   # Drop the rows based on the index values\n",
    "data[\"Android Ver\"].unique()"
   ]
  },
  {
   "cell_type": "code",
   "execution_count": 22,
   "id": "217ed0af",
   "metadata": {
    "execution": {
     "iopub.execute_input": "2023-10-09T13:18:41.855414Z",
     "iopub.status.busy": "2023-10-09T13:18:41.854712Z",
     "iopub.status.idle": "2023-10-09T13:18:41.873181Z",
     "shell.execute_reply": "2023-10-09T13:18:41.871817Z"
    },
    "papermill": {
     "duration": 0.034275,
     "end_time": "2023-10-09T13:18:41.875890",
     "exception": false,
     "start_time": "2023-10-09T13:18:41.841615",
     "status": "completed"
    },
    "tags": []
   },
   "outputs": [
    {
     "data": {
      "text/plain": [
       "array(['4.0.3 ', '4.2 ', '4.4 ', '2.3 ', '3.0 ', '4.1 ', '4.0 ', '2.3.3 ',\n",
       "       'Varies with device', '2.2 ', '5.0 ', '6.0 ', '1.6 ', '1.5 ',\n",
       "       '2.1 ', '7.0 ', '5.1 ', '4.3 ', '4.0.3 - 7.1.1', '2.0 ', '3.2 ',\n",
       "       '7.1 ', '7.0 - 7.1.1', '8.0 ', '5.0 - 8.0', '3.1 ', '2.0.1 ',\n",
       "       '4.1 - 7.1.1', '5.0 - 6.0', '1.0 ', '2.2 - 7.1.1', '5.0 - 7.1.1'],\n",
       "      dtype=object)"
      ]
     },
     "execution_count": 22,
     "metadata": {},
     "output_type": "execute_result"
    }
   ],
   "source": [
    "data[\"Android Ver\"] = data[\"Android Ver\"].str.replace('and up', '')\n",
    "data[\"Android Ver\"] = data[\"Android Ver\"].str.replace('W', '')\n",
    "data[\"Android Ver\"].unique()"
   ]
  },
  {
   "cell_type": "code",
   "execution_count": 23,
   "id": "28e9812d",
   "metadata": {
    "execution": {
     "iopub.execute_input": "2023-10-09T13:18:41.901275Z",
     "iopub.status.busy": "2023-10-09T13:18:41.900874Z",
     "iopub.status.idle": "2023-10-09T13:18:41.910570Z",
     "shell.execute_reply": "2023-10-09T13:18:41.909485Z"
    },
    "papermill": {
     "duration": 0.024545,
     "end_time": "2023-10-09T13:18:41.912780",
     "exception": false,
     "start_time": "2023-10-09T13:18:41.888235",
     "status": "completed"
    },
    "tags": []
   },
   "outputs": [
    {
     "data": {
      "text/plain": [
       "0    4.1 \n",
       "Name: Android Ver, dtype: object"
      ]
     },
     "execution_count": 23,
     "metadata": {},
     "output_type": "execute_result"
    }
   ],
   "source": [
    "data[\"Android Ver\"].mode()"
   ]
  },
  {
   "cell_type": "markdown",
   "id": "ae6a6331",
   "metadata": {
    "papermill": {
     "duration": 0.010901,
     "end_time": "2023-10-09T13:18:41.935173",
     "exception": false,
     "start_time": "2023-10-09T13:18:41.924272",
     "status": "completed"
    },
    "tags": []
   },
   "source": [
    "## DATA ANALYSIS AND VISUALIZATION"
   ]
  },
  {
   "cell_type": "code",
   "execution_count": 24,
   "id": "dc603083",
   "metadata": {
    "execution": {
     "iopub.execute_input": "2023-10-09T13:18:41.960502Z",
     "iopub.status.busy": "2023-10-09T13:18:41.959807Z",
     "iopub.status.idle": "2023-10-09T13:18:41.974567Z",
     "shell.execute_reply": "2023-10-09T13:18:41.973342Z"
    },
    "papermill": {
     "duration": 0.030739,
     "end_time": "2023-10-09T13:18:41.977235",
     "exception": false,
     "start_time": "2023-10-09T13:18:41.946496",
     "status": "completed"
    },
    "tags": []
   },
   "outputs": [
    {
     "data": {
      "text/html": [
       "<div>\n",
       "<style scoped>\n",
       "    .dataframe tbody tr th:only-of-type {\n",
       "        vertical-align: middle;\n",
       "    }\n",
       "\n",
       "    .dataframe tbody tr th {\n",
       "        vertical-align: top;\n",
       "    }\n",
       "\n",
       "    .dataframe thead th {\n",
       "        text-align: right;\n",
       "    }\n",
       "</style>\n",
       "<table border=\"1\" class=\"dataframe\">\n",
       "  <thead>\n",
       "    <tr style=\"text-align: right;\">\n",
       "      <th></th>\n",
       "      <th>Category</th>\n",
       "      <th>Rating</th>\n",
       "      <th>Reviews</th>\n",
       "      <th>Size</th>\n",
       "      <th>Installs</th>\n",
       "      <th>Type</th>\n",
       "      <th>Price</th>\n",
       "      <th>Content Rating</th>\n",
       "      <th>Android Ver</th>\n",
       "    </tr>\n",
       "  </thead>\n",
       "  <tbody>\n",
       "    <tr>\n",
       "      <th>0</th>\n",
       "      <td>ART_AND_DESIGN</td>\n",
       "      <td>4.1</td>\n",
       "      <td>159</td>\n",
       "      <td>19000.0</td>\n",
       "      <td>10000</td>\n",
       "      <td>Free</td>\n",
       "      <td>0.0</td>\n",
       "      <td>Everyone</td>\n",
       "      <td>4.0.3</td>\n",
       "    </tr>\n",
       "    <tr>\n",
       "      <th>1</th>\n",
       "      <td>ART_AND_DESIGN</td>\n",
       "      <td>3.9</td>\n",
       "      <td>967</td>\n",
       "      <td>14000.0</td>\n",
       "      <td>500000</td>\n",
       "      <td>Free</td>\n",
       "      <td>0.0</td>\n",
       "      <td>Everyone</td>\n",
       "      <td>4.0.3</td>\n",
       "    </tr>\n",
       "    <tr>\n",
       "      <th>2</th>\n",
       "      <td>ART_AND_DESIGN</td>\n",
       "      <td>4.7</td>\n",
       "      <td>87510</td>\n",
       "      <td>8700.0</td>\n",
       "      <td>5000000</td>\n",
       "      <td>Free</td>\n",
       "      <td>0.0</td>\n",
       "      <td>Everyone</td>\n",
       "      <td>4.0.3</td>\n",
       "    </tr>\n",
       "    <tr>\n",
       "      <th>3</th>\n",
       "      <td>ART_AND_DESIGN</td>\n",
       "      <td>4.5</td>\n",
       "      <td>215644</td>\n",
       "      <td>25000.0</td>\n",
       "      <td>50000000</td>\n",
       "      <td>Free</td>\n",
       "      <td>0.0</td>\n",
       "      <td>Teen</td>\n",
       "      <td>4.2</td>\n",
       "    </tr>\n",
       "    <tr>\n",
       "      <th>4</th>\n",
       "      <td>ART_AND_DESIGN</td>\n",
       "      <td>4.3</td>\n",
       "      <td>967</td>\n",
       "      <td>2800.0</td>\n",
       "      <td>100000</td>\n",
       "      <td>Free</td>\n",
       "      <td>0.0</td>\n",
       "      <td>Everyone</td>\n",
       "      <td>4.4</td>\n",
       "    </tr>\n",
       "  </tbody>\n",
       "</table>\n",
       "</div>"
      ],
      "text/plain": [
       "         Category  Rating  Reviews     Size  Installs  Type  Price  \\\n",
       "0  ART_AND_DESIGN     4.1      159  19000.0     10000  Free    0.0   \n",
       "1  ART_AND_DESIGN     3.9      967  14000.0    500000  Free    0.0   \n",
       "2  ART_AND_DESIGN     4.7    87510   8700.0   5000000  Free    0.0   \n",
       "3  ART_AND_DESIGN     4.5   215644  25000.0  50000000  Free    0.0   \n",
       "4  ART_AND_DESIGN     4.3      967   2800.0    100000  Free    0.0   \n",
       "\n",
       "  Content Rating Android Ver  \n",
       "0       Everyone      4.0.3   \n",
       "1       Everyone      4.0.3   \n",
       "2       Everyone      4.0.3   \n",
       "3           Teen        4.2   \n",
       "4       Everyone        4.4   "
      ]
     },
     "execution_count": 24,
     "metadata": {},
     "output_type": "execute_result"
    }
   ],
   "source": [
    "data.head()"
   ]
  },
  {
   "cell_type": "code",
   "execution_count": 25,
   "id": "eae56e83",
   "metadata": {
    "execution": {
     "iopub.execute_input": "2023-10-09T13:18:42.002853Z",
     "iopub.status.busy": "2023-10-09T13:18:42.002387Z",
     "iopub.status.idle": "2023-10-09T13:18:42.009745Z",
     "shell.execute_reply": "2023-10-09T13:18:42.008726Z"
    },
    "papermill": {
     "duration": 0.022828,
     "end_time": "2023-10-09T13:18:42.012001",
     "exception": false,
     "start_time": "2023-10-09T13:18:41.989173",
     "status": "completed"
    },
    "tags": []
   },
   "outputs": [
    {
     "data": {
      "text/plain": [
       "33"
      ]
     },
     "execution_count": 25,
     "metadata": {},
     "output_type": "execute_result"
    }
   ],
   "source": [
    "#No of unique categories in the dataset\n",
    "data.Category.nunique()"
   ]
  },
  {
   "cell_type": "code",
   "execution_count": 26,
   "id": "fca3c2d4",
   "metadata": {
    "execution": {
     "iopub.execute_input": "2023-10-09T13:18:42.038312Z",
     "iopub.status.busy": "2023-10-09T13:18:42.037848Z",
     "iopub.status.idle": "2023-10-09T13:18:42.045800Z",
     "shell.execute_reply": "2023-10-09T13:18:42.044697Z"
    },
    "papermill": {
     "duration": 0.023278,
     "end_time": "2023-10-09T13:18:42.047970",
     "exception": false,
     "start_time": "2023-10-09T13:18:42.024692",
     "status": "completed"
    },
    "tags": []
   },
   "outputs": [
    {
     "data": {
      "application/javascript": [
       "\n",
       "        if (window._pyforest_update_imports_cell) { window._pyforest_update_imports_cell('import matplotlib.pyplot as plt\\nimport pandas as pd'); }\n",
       "    "
      ],
      "text/plain": [
       "<IPython.core.display.Javascript object>"
      ]
     },
     "metadata": {},
     "output_type": "display_data"
    }
   ],
   "source": [
    "#for decorating plots\n",
    "plt.style.use('ggplot')"
   ]
  },
  {
   "cell_type": "code",
   "execution_count": 27,
   "id": "60a9abdf",
   "metadata": {
    "execution": {
     "iopub.execute_input": "2023-10-09T13:18:42.073346Z",
     "iopub.status.busy": "2023-10-09T13:18:42.072928Z",
     "iopub.status.idle": "2023-10-09T13:18:42.835210Z",
     "shell.execute_reply": "2023-10-09T13:18:42.834248Z"
    },
    "papermill": {
     "duration": 0.778349,
     "end_time": "2023-10-09T13:18:42.837899",
     "exception": false,
     "start_time": "2023-10-09T13:18:42.059550",
     "status": "completed"
    },
    "tags": []
   },
   "outputs": [
    {
     "data": {
      "application/javascript": [
       "\n",
       "        if (window._pyforest_update_imports_cell) { window._pyforest_update_imports_cell('import matplotlib.pyplot as plt\\nimport pandas as pd'); }\n",
       "    "
      ],
      "text/plain": [
       "<IPython.core.display.Javascript object>"
      ]
     },
     "metadata": {},
     "output_type": "display_data"
    },
    {
     "data": {
      "application/javascript": [
       "\n",
       "        if (window._pyforest_update_imports_cell) { window._pyforest_update_imports_cell('import matplotlib.pyplot as plt\\nimport pandas as pd'); }\n",
       "    "
      ],
      "text/plain": [
       "<IPython.core.display.Javascript object>"
      ]
     },
     "metadata": {},
     "output_type": "display_data"
    },
    {
     "data": {
      "application/javascript": [
       "\n",
       "        if (window._pyforest_update_imports_cell) { window._pyforest_update_imports_cell('import matplotlib.pyplot as plt\\nimport pandas as pd'); }\n",
       "    "
      ],
      "text/plain": [
       "<IPython.core.display.Javascript object>"
      ]
     },
     "metadata": {},
     "output_type": "display_data"
    },
    {
     "data": {
      "application/javascript": [
       "\n",
       "        if (window._pyforest_update_imports_cell) { window._pyforest_update_imports_cell('import matplotlib.pyplot as plt\\nimport pandas as pd'); }\n",
       "    "
      ],
      "text/plain": [
       "<IPython.core.display.Javascript object>"
      ]
     },
     "metadata": {},
     "output_type": "display_data"
    },
    {
     "data": {
      "image/png": "[encoded data removed]",
      "text/plain": [
       "<Figure size 1800x800 with 2 Axes>"
      ]
     },
     "metadata": {},
     "output_type": "display_data"
    }
   ],
   "source": [
    "#Create a figure and add two plots  side-by-side\n",
    "fig = plt.figure(figsize = [18,8])\n",
    "ax0 = fig.add_subplot(1,2,1) #-> First plot on the left\n",
    "ax1 = fig.add_subplot(1,2,2) #->Second plot on the right\n",
    "#First plot\n",
    "#Find the categories with the most apps on playstore\n",
    "top_10 = (data['Category'].value_counts()).iloc[:10]\n",
    "#create bar chart to visualize them\n",
    "top_10.plot(ax = ax0, kind='bar', \n",
    "            ylabel=\"No of Apps\",\n",
    "            title =\"Top 10 Categories on Playstore by Number of Apps\")\n",
    "plt.xlabel(\"Category\")\n",
    "\n",
    "\n",
    "#Second Plot\n",
    "#get total installs per category and divide by a Billion for easier visualization\n",
    "totals = data.groupby(\"Category\")[\"Installs\"].sum()/1000000000\n",
    "#sorting in descending order and getting the top ten values\n",
    "totals = totals.sort_values(ascending = False).head(10)\n",
    "#Visualization\n",
    "totals.plot(ax = ax1, kind = 'bar', title = \"Top 10 apps by Installs\")\n",
    "plt.xlabel(\"Category\")\n",
    "plt.ylabel(\"No of Installs in Billions\")\n",
    "fig.show()"
   ]
  },
  {
   "cell_type": "markdown",
   "id": "e9d32946",
   "metadata": {
    "papermill": {
     "duration": 0.012939,
     "end_time": "2023-10-09T13:18:42.864148",
     "exception": false,
     "start_time": "2023-10-09T13:18:42.851209",
     "status": "completed"
    },
    "tags": []
   },
   "source": [
    "The Games category has the most installed apps in terms of Installs while the Family category has the most number of apps on playstore"
   ]
  },
  {
   "cell_type": "code",
   "execution_count": 28,
   "id": "10acb6bd",
   "metadata": {
    "execution": {
     "iopub.execute_input": "2023-10-09T13:18:42.892605Z",
     "iopub.status.busy": "2023-10-09T13:18:42.892093Z",
     "iopub.status.idle": "2023-10-09T13:18:42.899759Z",
     "shell.execute_reply": "2023-10-09T13:18:42.898645Z"
    },
    "papermill": {
     "duration": 0.024725,
     "end_time": "2023-10-09T13:18:42.902058",
     "exception": false,
     "start_time": "2023-10-09T13:18:42.877333",
     "status": "completed"
    },
    "tags": []
   },
   "outputs": [
    {
     "data": {
      "text/plain": [
       "['GAME',\n",
       " 'COMMUNICATION',\n",
       " 'TOOLS',\n",
       " 'SOCIAL',\n",
       " 'PRODUCTIVITY',\n",
       " 'FAMILY',\n",
       " 'PHOTOGRAPHY',\n",
       " 'VIDEO_PLAYERS',\n",
       " 'TRAVEL_AND_LOCAL',\n",
       " 'NEWS_AND_MAGAZINES']"
      ]
     },
     "execution_count": 28,
     "metadata": {},
     "output_type": "execute_result"
    }
   ],
   "source": [
    "#Pass the top categories in terms of installs to a list\n",
    "categories = totals.index.to_list()\n",
    "categories"
   ]
  },
  {
   "cell_type": "code",
   "execution_count": 29,
   "id": "45ae34ac",
   "metadata": {
    "execution": {
     "iopub.execute_input": "2023-10-09T13:18:42.931178Z",
     "iopub.status.busy": "2023-10-09T13:18:42.930473Z",
     "iopub.status.idle": "2023-10-09T13:18:43.625162Z",
     "shell.execute_reply": "2023-10-09T13:18:43.624065Z"
    },
    "papermill": {
     "duration": 0.713016,
     "end_time": "2023-10-09T13:18:43.628667",
     "exception": false,
     "start_time": "2023-10-09T13:18:42.915651",
     "status": "completed"
    },
    "tags": []
   },
   "outputs": [
    {
     "data": {
      "application/javascript": [
       "\n",
       "        if (window._pyforest_update_imports_cell) { window._pyforest_update_imports_cell('import matplotlib.pyplot as plt\\nimport pandas as pd'); }\n",
       "    "
      ],
      "text/plain": [
       "<IPython.core.display.Javascript object>"
      ]
     },
     "metadata": {},
     "output_type": "display_data"
    },
    {
     "data": {
      "application/javascript": [
       "\n",
       "        if (window._pyforest_update_imports_cell) { window._pyforest_update_imports_cell('import matplotlib.pyplot as plt\\nimport numpy as np\\nimport pandas as pd'); }\n",
       "    "
      ],
      "text/plain": [
       "<IPython.core.display.Javascript object>"
      ]
     },
     "metadata": {},
     "output_type": "display_data"
    },
    {
     "data": {
      "application/javascript": [
       "\n",
       "        if (window._pyforest_update_imports_cell) { window._pyforest_update_imports_cell('import matplotlib.pyplot as plt\\nimport numpy as np\\nimport pandas as pd'); }\n",
       "    "
      ],
      "text/plain": [
       "<IPython.core.display.Javascript object>"
      ]
     },
     "metadata": {},
     "output_type": "display_data"
    },
    {
     "data": {
      "application/javascript": [
       "\n",
       "        if (window._pyforest_update_imports_cell) { window._pyforest_update_imports_cell('import matplotlib.pyplot as plt\\nimport numpy as np\\nimport pandas as pd'); }\n",
       "    "
      ],
      "text/plain": [
       "<IPython.core.display.Javascript object>"
      ]
     },
     "metadata": {},
     "output_type": "display_data"
    },
    {
     "data": {
      "text/plain": [
       "Text(0.5, 0, 'Rating')"
      ]
     },
     "execution_count": 29,
     "metadata": {},
     "output_type": "execute_result"
    },
    {
     "data": {
      "image/png": "[encoded data removed]",
      "text/plain": [
       "<Figure size 1600x800 with 2 Axes>"
      ]
     },
     "metadata": {},
     "output_type": "display_data"
    }
   ],
   "source": [
    "#Create a figure and add two plots  side-by-side\n",
    "fig = plt.figure(figsize = [16,8])\n",
    "ax0 = fig.add_subplot(1,2,1) #-> First plot on the left\n",
    "ax1 = fig.add_subplot(1,2,2) #->Second plot on the right\n",
    "\n",
    "#First Histogram on the left\n",
    "df = data\n",
    "df[\"Size\"] = df[\"Size\"]/1024\n",
    "\n",
    "count, bin_edges = np.histogram(df[\"Size\"])\n",
    "xmin = bin_edges[0]  #  first bin value \n",
    "xmax = bin_edges[-1]#  last bin value \n",
    "\n",
    "\n",
    "df[\"Size\"].plot(ax = ax0, kind=\"hist\",\n",
    "                title = \"Distribution of apps based on their size\",\n",
    "#                 bins = 10,\n",
    "                xticks=bin_edges,\n",
    "                xlim=(xmin, xmax),\n",
    "                xlabel=\"Size in Mbs\",\n",
    "                ylabel=\"No of Apps\")\n",
    "\n",
    "#Second Histogram on the right\n",
    "data[\"Rating\"].plot(ax = ax1, \n",
    "                    kind = \"hist\", \n",
    "                    title =\"Distribution of apps based on their ratings\",\n",
    "                    ylabel=\"No of Apps\")\n",
    "plt.margins(x=0.01)      #->x-axis to start at 0\n",
    "plt.xlabel(\"Rating\")"
   ]
  },
  {
   "cell_type": "code",
   "execution_count": 30,
   "id": "4163d750",
   "metadata": {
    "execution": {
     "iopub.execute_input": "2023-10-09T13:18:43.663942Z",
     "iopub.status.busy": "2023-10-09T13:18:43.662630Z",
     "iopub.status.idle": "2023-10-09T13:18:45.940145Z",
     "shell.execute_reply": "2023-10-09T13:18:45.939013Z"
    },
    "papermill": {
     "duration": 2.297937,
     "end_time": "2023-10-09T13:18:45.942947",
     "exception": false,
     "start_time": "2023-10-09T13:18:43.645010",
     "status": "completed"
    },
    "tags": []
   },
   "outputs": [
    {
     "data": {
      "application/javascript": [
       "\n",
       "        if (window._pyforest_update_imports_cell) { window._pyforest_update_imports_cell('import matplotlib.pyplot as plt\\nimport numpy as np\\nimport pandas as pd'); }\n",
       "    "
      ],
      "text/plain": [
       "<IPython.core.display.Javascript object>"
      ]
     },
     "metadata": {},
     "output_type": "display_data"
    },
    {
     "data": {
      "application/javascript": [
       "\n",
       "        if (window._pyforest_update_imports_cell) { window._pyforest_update_imports_cell('import seaborn as sns\\nimport matplotlib.pyplot as plt\\nimport numpy as np\\nimport pandas as pd'); }\n",
       "    "
      ],
      "text/plain": [
       "<IPython.core.display.Javascript object>"
      ]
     },
     "metadata": {},
     "output_type": "display_data"
    },
    {
     "data": {
      "application/javascript": [
       "\n",
       "        if (window._pyforest_update_imports_cell) { window._pyforest_update_imports_cell('import seaborn as sns\\nimport matplotlib.pyplot as plt\\nimport numpy as np\\nimport pandas as pd'); }\n",
       "    "
      ],
      "text/plain": [
       "<IPython.core.display.Javascript object>"
      ]
     },
     "metadata": {},
     "output_type": "display_data"
    },
    {
     "data": {
      "application/javascript": [
       "\n",
       "        if (window._pyforest_update_imports_cell) { window._pyforest_update_imports_cell('import seaborn as sns\\nimport matplotlib.pyplot as plt\\nimport numpy as np\\nimport pandas as pd'); }\n",
       "    "
      ],
      "text/plain": [
       "<IPython.core.display.Javascript object>"
      ]
     },
     "metadata": {},
     "output_type": "display_data"
    },
    {
     "data": {
      "application/javascript": [
       "\n",
       "        if (window._pyforest_update_imports_cell) { window._pyforest_update_imports_cell('import seaborn as sns\\nimport matplotlib.pyplot as plt\\nimport numpy as np\\nimport pandas as pd'); }\n",
       "    "
      ],
      "text/plain": [
       "<IPython.core.display.Javascript object>"
      ]
     },
     "metadata": {},
     "output_type": "display_data"
    },
    {
     "data": {
      "application/javascript": [
       "\n",
       "        if (window._pyforest_update_imports_cell) { window._pyforest_update_imports_cell('import seaborn as sns\\nimport matplotlib.pyplot as plt\\nimport numpy as np\\nimport pandas as pd'); }\n",
       "    "
      ],
      "text/plain": [
       "<IPython.core.display.Javascript object>"
      ]
     },
     "metadata": {},
     "output_type": "display_data"
    },
    {
     "data": {
      "image/png": "[encoded data removed]",
      "text/plain": [
       "<Figure size 1000x600 with 1 Axes>"
      ]
     },
     "metadata": {},
     "output_type": "display_data"
    }
   ],
   "source": [
    "# Distribution of Ratings using seaborn\n",
    "plt.figure(figsize=(10, 6))\n",
    "sns.histplot(data['Rating'], bins=10, kde=True)\n",
    "plt.title('Distribution of Ratings')\n",
    "plt.xlabel('Rating')\n",
    "plt.ylabel('Frequency')\n",
    "plt.show()"
   ]
  },
  {
   "cell_type": "code",
   "execution_count": 31,
   "id": "a6a4a1da",
   "metadata": {
    "execution": {
     "iopub.execute_input": "2023-10-09T13:18:45.978302Z",
     "iopub.status.busy": "2023-10-09T13:18:45.977684Z",
     "iopub.status.idle": "2023-10-09T13:18:46.440217Z",
     "shell.execute_reply": "2023-10-09T13:18:46.438734Z"
    },
    "papermill": {
     "duration": 0.483612,
     "end_time": "2023-10-09T13:18:46.443154",
     "exception": false,
     "start_time": "2023-10-09T13:18:45.959542",
     "status": "completed"
    },
    "tags": []
   },
   "outputs": [
    {
     "data": {
      "application/javascript": [
       "\n",
       "        if (window._pyforest_update_imports_cell) { window._pyforest_update_imports_cell('import seaborn as sns\\nimport matplotlib.pyplot as plt\\nimport numpy as np\\nimport pandas as pd'); }\n",
       "    "
      ],
      "text/plain": [
       "<IPython.core.display.Javascript object>"
      ]
     },
     "metadata": {},
     "output_type": "display_data"
    },
    {
     "data": {
      "application/javascript": [
       "\n",
       "        if (window._pyforest_update_imports_cell) { window._pyforest_update_imports_cell('import seaborn as sns\\nimport matplotlib.pyplot as plt\\nimport numpy as np\\nimport pandas as pd'); }\n",
       "    "
      ],
      "text/plain": [
       "<IPython.core.display.Javascript object>"
      ]
     },
     "metadata": {},
     "output_type": "display_data"
    },
    {
     "data": {
      "application/javascript": [
       "\n",
       "        if (window._pyforest_update_imports_cell) { window._pyforest_update_imports_cell('import seaborn as sns\\nimport matplotlib.pyplot as plt\\nimport numpy as np\\nimport pandas as pd'); }\n",
       "    "
      ],
      "text/plain": [
       "<IPython.core.display.Javascript object>"
      ]
     },
     "metadata": {},
     "output_type": "display_data"
    },
    {
     "data": {
      "application/javascript": [
       "\n",
       "        if (window._pyforest_update_imports_cell) { window._pyforest_update_imports_cell('import seaborn as sns\\nimport matplotlib.pyplot as plt\\nimport numpy as np\\nimport pandas as pd'); }\n",
       "    "
      ],
      "text/plain": [
       "<IPython.core.display.Javascript object>"
      ]
     },
     "metadata": {},
     "output_type": "display_data"
    },
    {
     "data": {
      "text/plain": [
       "<matplotlib.legend.Legend at 0x7eb048a78e50>"
      ]
     },
     "execution_count": 31,
     "metadata": {},
     "output_type": "execute_result"
    },
    {
     "data": {
      "image/png": "[encoded data removed]",
      "text/plain": [
       "<Figure size 1000x600 with 2 Axes>"
      ]
     },
     "metadata": {},
     "output_type": "display_data"
    }
   ],
   "source": [
    "fig = plt.figure()\n",
    "ax0 = fig.add_subplot(1,2,1) #-> First plot on the left\n",
    "ax1 = fig.add_subplot(1,2,2) #->Second plot on the right\n",
    "#First plot\n",
    "df_in = data.groupby(\"Type\")[\"Installs\"].sum()\n",
    " \n",
    "df_in.plot(ax=ax0, kind=\"pie\", \n",
    "           title = \"Installs per type\", \n",
    "           figsize = [10,6], \n",
    "           labeldistance = None,\n",
    "           startangle=90,\n",
    "           ylabel=(None),\n",
    "           autopct='%1.1f%%')\n",
    "ax0.legend(bbox_to_anchor=(0.5, 0, 0.5, 1))\n",
    "\n",
    "#Second plot\n",
    "cr_in = data.groupby(\"Content Rating\")[\"Installs\"].sum()\n",
    " \n",
    "cr_in.plot(ax=ax1, kind=\"pie\", \n",
    "           figsize = [10,6], \n",
    "           labeldistance = None, \n",
    "           startangle=90, \n",
    "           autopct='%1.2f%%')\n",
    "\n",
    "plt.title(\"Installs per Content Rating\")\n",
    "plt.ylabel(None)\n",
    "plt.legend(bbox_to_anchor=(1, 0, 0.5, 1))"
   ]
  },
  {
   "cell_type": "code",
   "execution_count": 32,
   "id": "eedd08c5",
   "metadata": {
    "execution": {
     "iopub.execute_input": "2023-10-09T13:18:46.482850Z",
     "iopub.status.busy": "2023-10-09T13:18:46.482374Z",
     "iopub.status.idle": "2023-10-09T13:18:46.980880Z",
     "shell.execute_reply": "2023-10-09T13:18:46.979895Z"
    },
    "papermill": {
     "duration": 0.521546,
     "end_time": "2023-10-09T13:18:46.983023",
     "exception": false,
     "start_time": "2023-10-09T13:18:46.461477",
     "status": "completed"
    },
    "tags": []
   },
   "outputs": [
    {
     "data": {
      "application/javascript": [
       "\n",
       "        if (window._pyforest_update_imports_cell) { window._pyforest_update_imports_cell('import seaborn as sns\\nimport matplotlib.pyplot as plt\\nimport numpy as np\\nimport pandas as pd'); }\n",
       "    "
      ],
      "text/plain": [
       "<IPython.core.display.Javascript object>"
      ]
     },
     "metadata": {},
     "output_type": "display_data"
    },
    {
     "data": {
      "application/javascript": [
       "\n",
       "        if (window._pyforest_update_imports_cell) { window._pyforest_update_imports_cell('import seaborn as sns\\nimport matplotlib.pyplot as plt\\nimport numpy as np\\nimport pandas as pd'); }\n",
       "    "
      ],
      "text/plain": [
       "<IPython.core.display.Javascript object>"
      ]
     },
     "metadata": {},
     "output_type": "display_data"
    },
    {
     "data": {
      "application/javascript": [
       "\n",
       "        if (window._pyforest_update_imports_cell) { window._pyforest_update_imports_cell('import seaborn as sns\\nimport matplotlib.pyplot as plt\\nimport numpy as np\\nimport pandas as pd'); }\n",
       "    "
      ],
      "text/plain": [
       "<IPython.core.display.Javascript object>"
      ]
     },
     "metadata": {},
     "output_type": "display_data"
    },
    {
     "data": {
      "application/javascript": [
       "\n",
       "        if (window._pyforest_update_imports_cell) { window._pyforest_update_imports_cell('import seaborn as sns\\nimport matplotlib.pyplot as plt\\nimport numpy as np\\nimport pandas as pd'); }\n",
       "    "
      ],
      "text/plain": [
       "<IPython.core.display.Javascript object>"
      ]
     },
     "metadata": {},
     "output_type": "display_data"
    },
    {
     "data": {
      "application/javascript": [
       "\n",
       "        if (window._pyforest_update_imports_cell) { window._pyforest_update_imports_cell('import seaborn as sns\\nimport matplotlib.pyplot as plt\\nimport numpy as np\\nimport pandas as pd'); }\n",
       "    "
      ],
      "text/plain": [
       "<IPython.core.display.Javascript object>"
      ]
     },
     "metadata": {},
     "output_type": "display_data"
    },
    {
     "data": {
      "application/javascript": [
       "\n",
       "        if (window._pyforest_update_imports_cell) { window._pyforest_update_imports_cell('import seaborn as sns\\nimport matplotlib.pyplot as plt\\nimport numpy as np\\nimport pandas as pd'); }\n",
       "    "
      ],
      "text/plain": [
       "<IPython.core.display.Javascript object>"
      ]
     },
     "metadata": {},
     "output_type": "display_data"
    },
    {
     "data": {
      "application/javascript": [
       "\n",
       "        if (window._pyforest_update_imports_cell) { window._pyforest_update_imports_cell('import seaborn as sns\\nimport matplotlib.pyplot as plt\\nimport numpy as np\\nimport pandas as pd'); }\n",
       "    "
      ],
      "text/plain": [
       "<IPython.core.display.Javascript object>"
      ]
     },
     "metadata": {},
     "output_type": "display_data"
    },
    {
     "data": {
      "image/png": "[encoded data removed]",
      "text/plain": [
       "<Figure size 1200x600 with 1 Axes>"
      ]
     },
     "metadata": {},
     "output_type": "display_data"
    }
   ],
   "source": [
    "# Android Version Distribution\n",
    "plt.figure(figsize=(12, 6))\n",
    "sns.countplot(data=data, x='Android Ver')\n",
    "plt.title('Android Version Distribution')\n",
    "plt.xlabel('Android Version')\n",
    "plt.ylabel('Count')\n",
    "plt.xticks(rotation=90)\n",
    "plt.show()"
   ]
  }
 ],
 "metadata": {
  "kernelspec": {
   "display_name": "Python 3",
   "language": "python",
   "name": "python3"
  },
  "language_info": {
   "codemirror_mode": {
    "name": "ipython",
    "version": 3
   },
   "file_extension": ".py",
   "mimetype": "text/x-python",
   "name": "python",
   "nbconvert_exporter": "python",
   "pygments_lexer": "ipython3",
   "version": "3.10.12"
  },
  "papermill": {
   "default_parameters": {},
   "duration": 27.977305,
   "end_time": "2023-10-09T13:18:47.929043",
   "environment_variables": {},
   "exception": null,
   "input_path": "__notebook__.ipynb",
   "output_path": "__notebook__.ipynb",
   "parameters": {},
   "start_time": "2023-10-09T13:18:19.951738",
   "version": "2.4.0"
  }
 },
 "nbformat": 4,
 "nbformat_minor": 5
}
